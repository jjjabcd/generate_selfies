{
 "cells": [
  {
   "cell_type": "code",
   "execution_count": 1,
   "metadata": {
    "id": "OvSYEO58cocO"
   },
   "outputs": [],
   "source": [
    "import numpy as np\n",
    "import torch\n",
    "import torch.nn as nn\n",
    "import torch.optim as optim\n",
    "import selfies as sf\n",
    "import os"
   ]
  },
  {
   "cell_type": "code",
   "execution_count": 2,
   "metadata": {
    "id": "P-B5D24-KGaO"
   },
   "outputs": [],
   "source": [
    "from rdkit import Chem\n",
    "from rdkit.Chem import MolFromSmiles\n",
    "from rdkit.Chem import MolToSmiles\n",
    "from rdkit.Chem import DataStructs\n",
    "from rdkit import DataStructs\n",
    "from rdkit.Chem import AllChem"
   ]
  },
  {
   "cell_type": "code",
   "execution_count": 3,
   "metadata": {
    "id": "V3qiwld3MbFr"
   },
   "outputs": [],
   "source": [
    "from rdkit import RDLogger"
   ]
  },
  {
   "cell_type": "code",
   "execution_count": 4,
   "metadata": {},
   "outputs": [],
   "source": [
    "RDLogger.DisableLog('rdApp.*')"
   ]
  },
  {
   "cell_type": "code",
   "execution_count": 5,
   "metadata": {},
   "outputs": [],
   "source": [
    "class CHEMENV:\n",
    "    def __init__(self, max_actions=150):\n",
    "        self.tokens = ['[#Branch1]', '[#Branch2]', '[=Branch1]', '[=Branch2]', '[=Ring1]', '[=Ring2]', '[Branch1]', '[Branch2]', '[Ring1]', '[Ring2]']\n",
    "        self.tokens += ['[P]', '[O]', '[N]', '[F]', '[Cl]', '[C]', '[Br]', '[#C]', '[S]']\n",
    "        self.tokens += ['[=C]', '[=N]', '[=O]', '[=P]', '[=S]', '[#N]'] #, '[=S+1]', '[=PH1]']\n",
    "        # self.tokens += ['[#N+1]', '[=N+1]', '[=N-1]', '[N+1]', '[N-1]']\n",
    "        # self.tokens += ['[CH1-1]', '[CH0]', '[CH1]', '[NH0]', '[NH1+1]', '[NH1]', '[O-1]', '[OH0]', '[PH0]', '[PH1]', '[S+1]', '[SH1]', '[C-1]']\n",
    "\n",
    "        self.action_space = ['<', '>'] + self.tokens\n",
    "        self.atoi = {a: i for i, a in enumerate(self.action_space)}\n",
    "        self.current_state = [0]\n",
    "        self.max_actions = max_actions\n",
    "        self.action_count = 0\n",
    "\n",
    "    def get_num_action(self):\n",
    "        return len(self.action_space)\n",
    "\n",
    "    def reset(self):\n",
    "        self.current_state = [0]\n",
    "        self.action_count = 0\n",
    "        return self.current_state\n",
    "\n",
    "    def to_index_list(self, s):\n",
    "        return [self.atoi[a] for a in s]\n",
    "\n",
    "    def to_selfies(self, s):\n",
    "        selfi = \"\".join([self.action_space[i] for i in s])\n",
    "        selfi = selfi.replace(self.action_space[1], \"\").replace(self.action_space[0], \"\")\n",
    "        return selfi\n",
    "\n",
    "    def calc_reward(self, selfies1):\n",
    "        try:\n",
    "            smiles1 = sf.decoder(selfies1)\n",
    "        except sf.DecoderError as e:\n",
    "            return False\n",
    "        try:\n",
    "            mol1 = MolFromSmiles(smiles1)\n",
    "            if mol1 is not None:\n",
    "                ms = [Chem.MolFromSmiles(smiles1), Chem.MolFromSmiles('COCCOC1=C(C=C2C(=C1)C(=NC=N2)NC3=CC=CC(=C3)C#C)OCCOC')]\n",
    "                fpgen = AllChem.GetRDKitFPGenerator()\n",
    "                fps = [fpgen.GetFingerprint(x) for x in ms]\n",
    "                tanimoto = DataStructs.TanimotoSimilarity(fps[0],fps[1])\n",
    "                return tanimoto * 5\n",
    "            else:\n",
    "                return 0\n",
    "        except Exception as e:\n",
    "            print(f\"Error in calc_reward: {e}\")  # Debug print\n",
    "            return 0\n",
    "            \n",
    "\n",
    "\n",
    "    def step(self, a):\n",
    "        self.current_state = self.current_state + [a]\n",
    "        self.action_count += 1\n",
    "        selfies_string = self.to_selfies(self.current_state)\n",
    "\n",
    "        r = self.calc_reward(selfies_string)\n",
    "        terminated = (a == 1) and (len(self.current_state) > 5)  # 최소 5자 이상 생성하는 조건 추가\n",
    "        terminated = terminated or self.action_count >= self.max_actions\n",
    "        return self.current_state, r, terminated, False, None\n",
    "\n",
    "    def close(self):\n",
    "        pass"
   ]
  },
  {
   "cell_type": "markdown",
   "metadata": {
    "id": "9oJAYZuNc4kU"
   },
   "source": [
    "<h5>rnn으로</h5>\n",
    "<h5>Actor를 input == output이 되게 SMILES pretrain하고</h5>\n",
    "<h5>Actor가 pretrain.pth파일을 불러와 action을 할 수 있게 만들면 된다.</h5>"
   ]
  },
  {
   "cell_type": "code",
   "execution_count": 6,
   "metadata": {
    "id": "XT9SyL8Pi02u"
   },
   "outputs": [],
   "source": [
    "# Actor 모델\n",
    "class Actor(nn.Module):\n",
    "    def __init__(self, num_action, embedding_dim, hidden_size):\n",
    "        super(Actor, self).__init__()\n",
    "        self.emb = nn.Embedding(num_action, embedding_dim)\n",
    "        self.rnn = nn.GRU(embedding_dim, hidden_size, num_layers=4, batch_first=True, dropout=0.2)  # 여러 레이어 추가\n",
    "        self.fc = nn.Linear(hidden_size, num_action)\n",
    "\n",
    "    def forward(self, state):\n",
    "        ## type(state): tensor\n",
    "        x = self.emb(state.unsqueeze(0))  # 배치 차원 추가\n",
    "        o, h = self.rnn(x)  # o.shape: (batch, seqlen, hidden_size), h.shape: (num_layers, batch, hidden_size)\n",
    "        o_last = self.fc(o[:, -1, :])  # 배치의 마지막 시퀀스 아이템\n",
    "        probabilities = torch.softmax(o_last, dim=-1)\n",
    "        return probabilities\n",
    "\n",
    "# Critic 모델\n",
    "class Critic(nn.Module):\n",
    "    def __init__(self, num_action, embedding_dim, hidden_size):\n",
    "        super(Critic, self).__init__()\n",
    "        self.emb = nn.Embedding(num_action, embedding_dim)\n",
    "        self.rnn = nn.GRU(embedding_dim, hidden_size, num_layers=4, batch_first=True, dropout=0.2)  # 여러 레이어 추가\n",
    "        self.fc = nn.Linear(hidden_size, 1)\n",
    "\n",
    "    def forward(self, state):\n",
    "        ## type(state): tensor\n",
    "        x = self.emb(state.unsqueeze(0))  # 배치 차원 추가\n",
    "        o, h = self.rnn(x)  # o.shape: (batch, seqlen, hidden_size), h.shape: (num_layers, batch, hidden_size)\n",
    "        o_last = self.fc(o[:, -1, :])  # 배치의 마지막 시퀀스 아이템\n",
    "        return o_last\n"
   ]
  },
  {
   "cell_type": "code",
   "execution_count": 7,
   "metadata": {},
   "outputs": [],
   "source": [
    "# 환경 생성\n",
    "env = CHEMENV(max_actions=150)\n",
    "\n",
    "device = torch.device(\"cuda\" if torch.cuda.is_available() else \"cpu\")"
   ]
  },
  {
   "cell_type": "code",
   "execution_count": 8,
   "metadata": {
    "id": "uERIF_AUi04-"
   },
   "outputs": [],
   "source": [
    "# 네트워크 및 최적화\n",
    "actor = Actor(env.get_num_action(), 16, 32).to(device)\n",
    "critic = Critic(env.get_num_action(), 16, 32).to(device)\n",
    "actor_optimizer = optim.Adam(actor.parameters(), lr=1e-3)\n",
    "critic_optimizer = optim.Adam(critic.parameters(), lr=1e-3)"
   ]
  },
  {
   "cell_type": "code",
   "execution_count": 9,
   "metadata": {
    "id": "r75qPC0Di0_1"
   },
   "outputs": [],
   "source": [
    "# GAE 파라미터\n",
    "gamma = 0.99  # 할인율\n",
    "lambda_gae = 0.95  # GAE lambda\n",
    "\n",
    "clip_param = 0.2\n",
    "ppo_epochs = 10\n",
    "\n",
    "# 학습 루프\n",
    "num_episodes = 3000\n",
    "print_interval = 100\n",
    "rewards_list = []"
   ]
  },
  {
   "cell_type": "code",
   "execution_count": 10,
   "metadata": {
    "id": "9bk9ZYeZi1CW"
   },
   "outputs": [],
   "source": [
    "def print_progress(episode, rewards, smi):\n",
    "    print(f'Episode {episode + 1} / {num_episodes}\\tReward = {rewards}\\tSMILES: {smi}')"
   ]
  },
  {
   "cell_type": "code",
   "execution_count": 11,
   "metadata": {},
   "outputs": [],
   "source": [
    "def ppo_update(actor, critic, states, actions, log_probs_old, returns, advantages, clip_param=0.2, epochs=10):\n",
    "    for _ in range(epochs):\n",
    "        for state, action, log_prob_old, return_, advantage in zip(states, actions, log_probs_old, returns, advantages):\n",
    "            state_tensor = torch.IntTensor(state).to(device)\n",
    "            action_tensor = torch.IntTensor([action]).to(device)\n",
    "            return_tensor = torch.FloatTensor([return_]).to(device)\n",
    "            advantage_tensor = torch.FloatTensor([advantage]).to(device)\n",
    "            log_prob_old_tensor = torch.FloatTensor([log_prob_old]).to(device)\n",
    "\n",
    "            # Calculate new log_probs\n",
    "            probs = actor(state_tensor)\n",
    "            dist = torch.distributions.Categorical(probs)\n",
    "            log_prob_new = dist.log_prob(action_tensor)\n",
    "\n",
    "            # Ratio for clipping\n",
    "            ratio = torch.exp(log_prob_new - log_prob_old_tensor)\n",
    "\n",
    "            # Clipped objective\n",
    "            surr1 = ratio * advantage_tensor\n",
    "            surr2 = torch.clamp(ratio, 1.0 - clip_param, 1.0 + clip_param) * advantage_tensor\n",
    "            actor_loss = -torch.min(surr1, surr2).mean()\n",
    "\n",
    "            # Critic loss\n",
    "            state_value = critic(state_tensor)\n",
    "            critic_loss = (return_tensor - state_value).pow(2).mean()\n",
    "\n",
    "            # Update actor\n",
    "            actor_optimizer.zero_grad()\n",
    "            actor_loss.backward()\n",
    "            actor_optimizer.step()\n",
    "\n",
    "            # Update critic\n",
    "            critic_optimizer.zero_grad()\n",
    "            critic_loss.backward()\n",
    "            critic_optimizer.step()\n"
   ]
  },
  {
   "cell_type": "code",
   "execution_count": 12,
   "metadata": {
    "colab": {
     "base_uri": "https://localhost:8080/"
    },
    "id": "-AWWyWuWi1Ee",
    "outputId": "2f372887-572f-45e3-9027-ca63af3825dc"
   },
   "outputs": [
    {
     "name": "stdout",
     "output_type": "stream",
     "text": [
      "Episode 100 / 3000\tReward = 0.0\tSMILES: ClBr\n",
      "TanimotoSimilarity : 0.0\n",
      "Checkpoint saved at episode 100\n",
      "Episode 200 / 3000\tReward = 1.8016928657799247\tSMILES: BrBr\n",
      "TanimotoSimilarity : 0.0024183796856106408\n",
      "Checkpoint saved at episode 200\n",
      "Episode 300 / 3000\tReward = 1.8016928657799247\tSMILES: BrBr\n",
      "TanimotoSimilarity : 0.0024183796856106408\n",
      "Checkpoint saved at episode 300\n",
      "Episode 400 / 3000\tReward = 65.52830607419382\tSMILES: C(P=P=P#P)(N=PN)=NNCC(NCCC=NN=N)N=N\n",
      "TanimotoSimilarity : 0.10611854684512428\n",
      "Checkpoint saved at episode 400\n",
      "Episode 500 / 3000\tReward = 0.8937198067632879\tSMILES: BrF\n",
      "TanimotoSimilarity : 0.0012077294685990338\n",
      "Checkpoint saved at episode 500\n",
      "Episode 600 / 3000\tReward = 0.8635265700483119\tSMILES: O=O\n",
      "TanimotoSimilarity : 0.0012077294685990338\n",
      "Checkpoint saved at episode 600\n",
      "Episode 700 / 3000\tReward = 23.240372216239223\tSMILES: CNNNCOOOC=O\n",
      "TanimotoSimilarity : 0.03832752613240418\n",
      "Checkpoint saved at episode 700\n",
      "Episode 800 / 3000\tReward = 10.238782880464523\tSMILES: FOCNCN=O\n",
      "TanimotoSimilarity : 0.01406799531066823\n",
      "Checkpoint saved at episode 800\n",
      "Episode 900 / 3000\tReward = 3.5524801431210293\tSMILES: FC#N\n",
      "TanimotoSimilarity : 0.0048250904704463205\n",
      "Checkpoint saved at episode 900\n",
      "Episode 1000 / 3000\tReward = 28.734048801218186\tSMILES: FNNNNNNNNN=NNNNN=NNNNNNNNNNNNNNNCCNNNNNNNNNNNNNCNNNNNNNNCNNNNNNNNCNNNNNNCNNCNNN\n",
      "TanimotoSimilarity : 0.0664451827242525\n",
      "Checkpoint saved at episode 1000\n",
      "Episode 1100 / 3000\tReward = 42.6808329154249\tSMILES: NCCN(N)NN=NOONCN=O\n",
      "TanimotoSimilarity : 0.06345733041575492\n",
      "Checkpoint saved at episode 1100\n",
      "Episode 1200 / 3000\tReward = 37.376002579738426\tSMILES: BrNONN(NN=O)NNC=O\n",
      "TanimotoSimilarity : 0.059734513274336286\n",
      "Checkpoint saved at episode 1200\n",
      "Episode 1300 / 3000\tReward = 13.029501071815599\tSMILES: BrN=NNC#N\n",
      "TanimotoSimilarity : 0.017814726840855107\n",
      "Checkpoint saved at episode 1300\n",
      "Episode 1400 / 3000\tReward = 10.111565778821328\tSMILES: NNNNNNNNNNNNNNNNNNNN=O\n",
      "TanimotoSimilarity : 0.015439429928741092\n",
      "Checkpoint saved at episode 1400\n",
      "Episode 1500 / 3000\tReward = 14.7286390190968\tSMILES: ONNNNNNNNNNN=O\n",
      "TanimotoSimilarity : 0.021151586368977675\n",
      "Checkpoint saved at episode 1500\n",
      "Episode 1600 / 3000\tReward = 27.110522673236567\tSMILES: O=NN=NNNNNN(N)NNNNONNOOOOOONNN=NON=NNO\n",
      "TanimotoSimilarity : 0.08881922675026123\n",
      "Checkpoint saved at episode 1600\n",
      "Episode 1700 / 3000\tReward = 0.8876811594202927\tSMILES: N=O\n",
      "TanimotoSimilarity : 0.0012077294685990338\n",
      "Checkpoint saved at episode 1700\n",
      "Episode 1800 / 3000\tReward = 14.042798931527935\tSMILES: NN=NNNNNNNNNNNNNNNNNNNNNNNNNNNNN=NN=O\n",
      "TanimotoSimilarity : 0.024504084014002333\n",
      "Checkpoint saved at episode 1800\n",
      "Episode 1900 / 3000\tReward = 0.8876811594202927\tSMILES: O=O\n",
      "TanimotoSimilarity : 0.0012077294685990338\n",
      "Checkpoint saved at episode 1900\n",
      "Episode 2000 / 3000\tReward = 22.275820205380867\tSMILES: OOONONONN=NONOONNONO\n",
      "TanimotoSimilarity : 0.0586283185840708\n",
      "Checkpoint saved at episode 2000\n",
      "Episode 2100 / 3000\tReward = 0.8894230769230784\tSMILES: ON=O\n",
      "TanimotoSimilarity : 0.001201923076923077\n",
      "Checkpoint saved at episode 2100\n",
      "Episode 2200 / 3000\tReward = 0.8937198067632879\tSMILES: O=O\n",
      "TanimotoSimilarity : 0.0012077294685990338\n",
      "Checkpoint saved at episode 2200\n",
      "Episode 2300 / 3000\tReward = 22.179451369485545\tSMILES: NNNNN=NNNNNN=NNN=NNNN=NNNNNN=NN(N)N=NN=NNN=NNNNN=NN=NN=NNN\n",
      "TanimotoSimilarity : 0.040955631399317405\n",
      "Checkpoint saved at episode 2300\n",
      "Episode 2400 / 3000\tReward = 0.8876811594202927\tSMILES: O=O\n",
      "TanimotoSimilarity : 0.0012077294685990338\n",
      "Checkpoint saved at episode 2400\n",
      "Episode 2500 / 3000\tReward = 27.146146284741054\tSMILES: NNN=NONNNNNNNNN=NON=O\n",
      "TanimotoSimilarity : 0.04147982062780269\n",
      "Checkpoint saved at episode 2500\n",
      "Episode 2600 / 3000\tReward = 36.22982972984671\tSMILES: NN=NOOONON=NNNONONOOOOOOOOONN=O\n",
      "TanimotoSimilarity : 0.07667731629392971\n",
      "Checkpoint saved at episode 2600\n",
      "Episode 2700 / 3000\tReward = 27.89507509230962\tSMILES: NONON=NON=NONNNNONNNOOONNN=NNNON\n",
      "TanimotoSimilarity : 0.07303974221267455\n",
      "Checkpoint saved at episode 2700\n",
      "Episode 2800 / 3000\tReward = 31.37132466003004\tSMILES: NN=NNNNNN(NNNN=O)NONNNNNNNNNNNNNNONN\n",
      "TanimotoSimilarity : 0.051762114537444934\n",
      "Checkpoint saved at episode 2800\n",
      "Episode 2900 / 3000\tReward = 1.8016928657799247\tSMILES: N#N\n",
      "TanimotoSimilarity : 0.0024183796856106408\n",
      "Checkpoint saved at episode 2900\n",
      "Episode 3000 / 3000\tReward = 28.641603949131873\tSMILES: NNN=NNNN=NN=NNN=NN(N)N=NN=NN=NN=NNN=NN=NN=NN=NNN(N)N=O\n",
      "TanimotoSimilarity : 0.046067415730337076\n",
      "Checkpoint saved at episode 3000\n"
     ]
    }
   ],
   "source": [
    "checkpoint_dir = 'ppo_checkpoints/'\n",
    "\n",
    "if not os.path.exists(checkpoint_dir):\n",
    "    os.makedirs(checkpoint_dir)\n",
    "\n",
    "for episode in range(1, num_episodes+1):\n",
    "    state = env.reset()\n",
    "    done = False\n",
    "    episode_rewards = 0\n",
    "    state_values = []\n",
    "    rewards = []\n",
    "    masks = []\n",
    "    actions = []\n",
    "    states = []\n",
    "    action_log_probs = []\n",
    "\n",
    "    while not done:\n",
    "        state_tensor = torch.IntTensor(state).to(device)\n",
    "        probs = actor(state_tensor)\n",
    "        dist = torch.distributions.Categorical(probs)\n",
    "        action = dist.sample()\n",
    "\n",
    "        next_state, reward, terminated, truncated, _ = env.step(action.item())\n",
    "        done = terminated or truncated\n",
    "        episode_rewards += reward\n",
    "\n",
    "        states.append(state)\n",
    "        actions.append(action.item())\n",
    "        action_log_probs.append(dist.log_prob(action).item())\n",
    "        rewards.append(reward)\n",
    "        masks.append(1 - done)\n",
    "\n",
    "        state_value = critic(state_tensor).item()\n",
    "        state_values.append(state_value)\n",
    "\n",
    "        state = next_state\n",
    "\n",
    "    rewards_list.append(episode_rewards)\n",
    "\n",
    "\n",
    "    # Calculate returns and GAE\n",
    "    next_state_tensor = torch.IntTensor(state).to(device)\n",
    "    next_state_value = critic(next_state_tensor).item()\n",
    "    returns = []\n",
    "    gae = 0\n",
    "    for step in reversed(range(len(rewards))):\n",
    "        delta = rewards[step] + gamma * next_state_value * masks[step] - state_values[step]\n",
    "        gae = delta + gamma * lambda_gae * masks[step] * gae\n",
    "        next_state_value = state_values[step]\n",
    "        returns.insert(0, gae + state_values[step])\n",
    "\n",
    "    returns = torch.FloatTensor(returns).to(device)\n",
    "    state_values = torch.FloatTensor(state_values).to(device)\n",
    "    actions = torch.LongTensor(actions).to(device)\n",
    "    action_log_probs = torch.FloatTensor(action_log_probs).to(device)\n",
    "    advantages = returns - state_values\n",
    "\n",
    "    # PPO update\n",
    "    ppo_update(actor, critic, states, actions, action_log_probs, returns, advantages, clip_param, ppo_epochs)\n",
    "\n",
    "    if (episode + 1) % print_interval == 0:\n",
    "        smi = sf.decoder(env.to_selfies(state))\n",
    "        print_progress(episode, episode_rewards, smi)\n",
    "        ms = [Chem.MolFromSmiles(smi), Chem.MolFromSmiles('COCCOC1=C(C=C2C(=C1)C(=NC=N2)NC3=CC=CC(=C3)C#C)OCCOC')]\n",
    "        fpgen = AllChem.GetRDKitFPGenerator()\n",
    "        fps = [fpgen.GetFingerprint(x) for x in ms]\n",
    "        tanimoto = DataStructs.TanimotoSimilarity(fps[0],fps[1])\n",
    "\n",
    "        print(f\"TanimotoSimilarity : {tanimoto}\")\n",
    "        \n",
    "        # 모델 상태 저장\n",
    "        checkpoint_path = os.path.join(checkpoint_dir, f'checkpoint_{episode + 1}.pth')\n",
    "        torch.save({\n",
    "            'actor_state_dict': actor.state_dict(),\n",
    "            'critic_state_dict': critic.state_dict(),\n",
    "            'optimizer_actor_state_dict': actor_optimizer.state_dict(),\n",
    "            'optimizer_critic_state_dict': critic_optimizer.state_dict(),\n",
    "            'episode': episode + 1\n",
    "        }, checkpoint_path)\n",
    "        print(f\"Checkpoint saved at episode {episode + 1}\")\n",
    "\n",
    "# 환경 종료\n",
    "env.close()"
   ]
  },
  {
   "cell_type": "code",
   "execution_count": 13,
   "metadata": {
    "id": "pvpw41-Ccrww"
   },
   "outputs": [
    {
     "data": {
      "image/png": "[encoded data removed]",
      "text/plain": [
       "<Figure size 1000x500 with 1 Axes>"
      ]
     },
     "metadata": {},
     "output_type": "display_data"
    }
   ],
   "source": [
    "import matplotlib.pyplot as plt\n",
    "\n",
    "plt.figure(figsize=(10, 5))\n",
    "plt.plot(rewards_list, label='Reward per episode')\n",
    "plt.xlabel('Episode')\n",
    "plt.ylabel('Total Reward')\n",
    "plt.title('Total Rewards Per Episode')\n",
    "plt.legend()\n",
    "plt.show()"
   ]
  },
  {
   "cell_type": "code",
   "execution_count": null,
   "metadata": {
    "id": "MbK1W0Rbhkb1"
   },
   "outputs": [],
   "source": []
  },
  {
   "cell_type": "code",
   "execution_count": null,
   "metadata": {},
   "outputs": [],
   "source": []
  },
  {
   "cell_type": "code",
   "execution_count": null,
   "metadata": {},
   "outputs": [],
   "source": []
  },
  {
   "cell_type": "code",
   "execution_count": null,
   "metadata": {},
   "outputs": [],
   "source": []
  },
  {
   "cell_type": "code",
   "execution_count": null,
   "metadata": {},
   "outputs": [],
   "source": []
  },
  {
   "cell_type": "code",
   "execution_count": null,
   "metadata": {},
   "outputs": [],
   "source": []
  },
  {
   "cell_type": "code",
   "execution_count": null,
   "metadata": {},
   "outputs": [],
   "source": []
  },
  {
   "cell_type": "code",
   "execution_count": null,
   "metadata": {},
   "outputs": [],
   "source": []
  },
  {
   "cell_type": "code",
   "execution_count": null,
   "metadata": {},
   "outputs": [],
   "source": []
  },
  {
   "cell_type": "code",
   "execution_count": null,
   "metadata": {},
   "outputs": [],
   "source": []
  }
 ],
 "metadata": {
  "accelerator": "GPU",
  "colab": {
   "gpuType": "T4",
   "provenance": []
  },
  "kernelspec": {
   "display_name": "Python 3 (ipykernel)",
   "language": "python",
   "name": "python3"
  },
  "language_info": {
   "codemirror_mode": {
    "name": "ipython",
    "version": 3
   },
   "file_extension": ".py",
   "mimetype": "text/x-python",
   "name": "python",
   "nbconvert_exporter": "python",
   "pygments_lexer": "ipython3",
   "version": "3.12.2"
  }
 },
 "nbformat": 4,
 "nbformat_minor": 4
}
