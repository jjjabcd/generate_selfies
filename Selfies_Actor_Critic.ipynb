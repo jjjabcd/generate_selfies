{
 "cells": [
  {
   "cell_type": "code",
   "execution_count": 1,
   "id": "4d238fd4-cc58-43fc-8a7d-439439a47fdc",
   "metadata": {},
   "outputs": [],
   "source": [
    "import numpy as np\n",
    "import torch\n",
    "import torch.nn as nn\n",
    "import torch.optim as optim\n",
    "import selfies as sf\n",
    "import os"
   ]
  },
  {
   "cell_type": "code",
   "execution_count": 2,
   "id": "62bc9401-1490-4354-b8da-79357a41062e",
   "metadata": {},
   "outputs": [],
   "source": [
    "from rdkit import Chem\n",
    "from rdkit.Chem import MolFromSmiles\n",
    "from rdkit.Chem import MolToSmiles\n",
    "from rdkit.Chem import DataStructs\n",
    "from rdkit import DataStructs\n",
    "from rdkit.Chem import AllChem"
   ]
  },
  {
   "cell_type": "code",
   "execution_count": 3,
   "id": "178e5c1d-9c9d-4031-9760-68f8cbafd9c4",
   "metadata": {},
   "outputs": [],
   "source": [
    "from rdkit import RDLogger"
   ]
  },
  {
   "cell_type": "code",
   "execution_count": 4,
   "id": "3c827d6d-f53b-470d-8333-6603f2057c57",
   "metadata": {},
   "outputs": [],
   "source": [
    "RDLogger.DisableLog('rdApp.*')"
   ]
  },
  {
   "cell_type": "code",
   "execution_count": 5,
   "id": "620dadcc-593e-416f-b991-2b0e1e498c89",
   "metadata": {},
   "outputs": [],
   "source": [
    "class CHEMENV:\n",
    "    def __init__(self, max_actions=150):\n",
    "        self.tokens = ['[#Branch1]', '[#Branch2]', '[=Branch1]', '[=Branch2]', '[=Ring1]', '[=Ring2]', '[Branch1]', '[Branch2]', '[Ring1]', '[Ring2]']\n",
    "        self.tokens += ['[P]', '[O]', '[N]', '[F]', '[Cl]', '[C]', '[Br]', '[#C]', '[S]']\n",
    "        self.tokens += ['[=C]', '[=N]', '[=O]', '[=P]', '[=S]', '[#N]'] #, '[=S+1]', '[=PH1]']\n",
    "        # self.tokens += ['[#N+1]', '[=N+1]', '[=N-1]', '[N+1]', '[N-1]']\n",
    "        # self.tokens += ['[CH1-1]', '[CH0]', '[CH1]', '[NH0]', '[NH1+1]', '[NH1]', '[O-1]', '[OH0]', '[PH0]', '[PH1]', '[S+1]', '[SH1]', '[C-1]']\n",
    "\n",
    "        self.action_space = ['<', '>'] + self.tokens\n",
    "        self.atoi = {a: i for i, a in enumerate(self.action_space)}\n",
    "        self.current_state = [0]\n",
    "        self.max_actions = max_actions\n",
    "        self.action_count = 0\n",
    "\n",
    "    def get_num_action(self):\n",
    "        return len(self.action_space)\n",
    "\n",
    "    def reset(self):\n",
    "        self.current_state = [0]\n",
    "        self.action_count = 0\n",
    "        return self.current_state\n",
    "\n",
    "    def to_index_list(self, s):\n",
    "        return [self.atoi[a] for a in s]\n",
    "\n",
    "    def to_selfies(self, s):\n",
    "        selfi = \"\".join([self.action_space[i] for i in s])\n",
    "        selfi = selfi.replace(self.action_space[1], \"\").replace(self.action_space[0], \"\")\n",
    "        return selfi\n",
    "\n",
    "    def calc_reward(self, selfies1):\n",
    "        try:\n",
    "            smiles1 = sf.decoder(selfies1)\n",
    "        except sf.DecoderError as e:\n",
    "            return False\n",
    "        try:\n",
    "            mol1 = MolFromSmiles(smiles1)\n",
    "            if mol1 is not None:\n",
    "                ms = [Chem.MolFromSmiles(smiles1), Chem.MolFromSmiles('COCCOC1=C(C=C2C(=C1)C(=NC=N2)NC3=CC=CC(=C3)C#C)OCCOC')]\n",
    "                fpgen = AllChem.GetRDKitFPGenerator()\n",
    "                fps = [fpgen.GetFingerprint(x) for x in ms]\n",
    "                tanimoto = DataStructs.TanimotoSimilarity(fps[0],fps[1])\n",
    "                return tanimoto * 5\n",
    "            else:\n",
    "                return 0\n",
    "        except Exception as e:\n",
    "            print(f\"Error in calc_reward: {e}\")  # Debug print\n",
    "            return 0\n",
    "            \n",
    "\n",
    "\n",
    "    def step(self, a):\n",
    "        self.current_state = self.current_state + [a]\n",
    "        self.action_count += 1\n",
    "        selfies_string = self.to_selfies(self.current_state)\n",
    "\n",
    "        r = self.calc_reward(selfies_string)\n",
    "        terminated = (a == 1) and (len(self.current_state) > 5)  # 최소 5자 이상 생성하는 조건 추가\n",
    "        terminated = terminated or self.action_count >= self.max_actions\n",
    "        return self.current_state, r, terminated, False, None\n",
    "\n",
    "    def close(self):\n",
    "        pass"
   ]
  },
  {
   "cell_type": "code",
   "execution_count": 6,
   "id": "241874b2-b5e6-4571-83e1-a358fae5268f",
   "metadata": {},
   "outputs": [
    {
     "data": {
      "text/plain": [
       "27"
      ]
     },
     "execution_count": 6,
     "metadata": {},
     "output_type": "execute_result"
    }
   ],
   "source": [
    "env = CHEMENV()\n",
    "\n",
    "env.get_num_action()"
   ]
  },
  {
   "cell_type": "code",
   "execution_count": 7,
   "id": "52acfd0a-80c5-4326-94d0-262470a8b6ed",
   "metadata": {},
   "outputs": [
    {
     "data": {
      "text/plain": [
       "device(type='cuda')"
      ]
     },
     "execution_count": 7,
     "metadata": {},
     "output_type": "execute_result"
    }
   ],
   "source": [
    "# 디바이스 설정\n",
    "device = torch.device(\"cuda\" if torch.cuda.is_available() else \"cpu\")\n",
    "\n",
    "device"
   ]
  },
  {
   "cell_type": "code",
   "execution_count": 8,
   "id": "585fe1f5-a6a9-4425-8a0d-ba875f7ab909",
   "metadata": {},
   "outputs": [],
   "source": [
    "# Actor 모델\n",
    "class Actor(nn.Module):\n",
    "    def __init__(self, num_action, embedding_dim, hidden_size):\n",
    "        super(Actor, self).__init__()\n",
    "        self.emb = nn.Embedding(num_action, embedding_dim)\n",
    "        self.rnn = nn.GRU(embedding_dim, hidden_size, num_layers=4, batch_first=True, dropout=0.2)  # 여러 레이어 추가\n",
    "        self.fc = nn.Linear(hidden_size, num_action)\n",
    "\n",
    "    def forward(self, state):\n",
    "        ## type(state): tensor\n",
    "        x = self.emb(state.unsqueeze(0))  # 배치 차원 추가\n",
    "        o, h = self.rnn(x)  # o.shape: (batch, seqlen, hidden_size), h.shape: (num_layers, batch, hidden_size)\n",
    "        o_last = self.fc(o[:, -1, :])  # 배치의 마지막 시퀀스 아이템\n",
    "        probabilities = torch.softmax(o_last, dim=-1)\n",
    "        return probabilities\n",
    "\n",
    "# Critic 모델\n",
    "class Critic(nn.Module):\n",
    "    def __init__(self, num_action, embedding_dim, hidden_size):\n",
    "        super(Critic, self).__init__()\n",
    "        self.emb = nn.Embedding(num_action, embedding_dim)\n",
    "        self.rnn = nn.GRU(embedding_dim, hidden_size, num_layers=4, batch_first=True, dropout=0.2)  # 여러 레이어 추가\n",
    "        self.fc = nn.Linear(hidden_size, 1)\n",
    "\n",
    "    def forward(self, state):\n",
    "        ## type(state): tensor\n",
    "        x = self.emb(state.unsqueeze(0))  # 배치 차원 추가\n",
    "        o, h = self.rnn(x)  # o.shape: (batch, seqlen, hidden_size), h.shape: (num_layers, batch, hidden_size)\n",
    "        o_last = self.fc(o[:, -1, :])  # 배치의 마지막 시퀀스 아이템\n",
    "        return o_last\n"
   ]
  },
  {
   "cell_type": "code",
   "execution_count": 9,
   "id": "e381cb3f-b01f-4956-ad45-bceb120ed3ec",
   "metadata": {},
   "outputs": [],
   "source": [
    "def print_progress(episode, rewards, smi):\n",
    "    print(f'Episode {episode + 1} / {num_episodes}\\tReward = {rewards}\\tSMILES: {smi}')"
   ]
  },
  {
   "cell_type": "code",
   "execution_count": 10,
   "id": "b2277383-924c-4517-bc08-1907286a8279",
   "metadata": {},
   "outputs": [],
   "source": [
    "# Network and optimization\n",
    "env = CHEMENV(max_actions=150)\n",
    "actor = Actor(env.get_num_action(), 16, 32).to(device)\n",
    "critic = Critic(env.get_num_action(), 16, 32).to(device)\n",
    "actor_optimizer = optim.Adam(actor.parameters(), lr=1e-3)\n",
    "critic_optimizer = optim.Adam(critic.parameters(), lr=1e-3)"
   ]
  },
  {
   "cell_type": "code",
   "execution_count": 11,
   "id": "79c098c2-b250-403c-8566-952024b3f216",
   "metadata": {},
   "outputs": [],
   "source": [
    "# GAE parameters\n",
    "gamma = 0.99  # discount factor\n",
    "lambda_gae = 0.95  # GAE lambda\n",
    "\n",
    "# Training loop\n",
    "num_episodes = 3000\n",
    "print_interval = 100\n",
    "rewards_list = []"
   ]
  },
  {
   "cell_type": "code",
   "execution_count": 12,
   "id": "f373a6a5-6ceb-4ebe-8c15-a06e2a18bf19",
   "metadata": {},
   "outputs": [
    {
     "name": "stdout",
     "output_type": "stream",
     "text": [
      "Episode 100 / 3000\tReward = 4.243960148710453\tSMILES: ClC(C=S#CO)F\n",
      "TanimotoSimilarity : 0.029342723004694836\n",
      "Checkpoint saved at episode 100\n",
      "Episode 200 / 3000\tReward = 2.377257069782281\tSMILES: SP#CCl\n",
      "TanimotoSimilarity : 0.009626955475330927\n",
      "Checkpoint saved at episode 200\n",
      "Episode 300 / 3000\tReward = 15.33972790044647\tSMILES: C=C=NNN=C=O\n",
      "TanimotoSimilarity : 0.021352313167259787\n",
      "Checkpoint saved at episode 300\n",
      "Episode 400 / 3000\tReward = 0.0\tSMILES: OBr\n",
      "TanimotoSimilarity : 0.0\n",
      "Checkpoint saved at episode 400\n",
      "Episode 500 / 3000\tReward = 0.0\tSMILES: OBr\n",
      "TanimotoSimilarity : 0.0\n",
      "Checkpoint saved at episode 500\n",
      "Episode 600 / 3000\tReward = 2.674698795180715\tSMILES: FS=O\n",
      "TanimotoSimilarity : 0.0036144578313253013\n",
      "Checkpoint saved at episode 600\n",
      "Episode 700 / 3000\tReward = 36.27727064767996\tSMILES: P=CC=NOC=C=COC=NOS=O\n",
      "TanimotoSimilarity : 0.05339265850945495\n",
      "Checkpoint saved at episode 700\n",
      "Episode 800 / 3000\tReward = 0.8997584541062831\tSMILES: CCl\n",
      "TanimotoSimilarity : 0.0012077294685990338\n",
      "Checkpoint saved at episode 800\n",
      "Episode 900 / 3000\tReward = 6.2255202160586\tSMILES: N=S(C=O)=N\n",
      "TanimotoSimilarity : 0.008363201911589008\n",
      "Checkpoint saved at episode 900\n",
      "Episode 1000 / 3000\tReward = 10.16772935665654\tSMILES: CC#CPC#N\n",
      "TanimotoSimilarity : 0.014234875444839857\n",
      "Checkpoint saved at episode 1000\n",
      "Episode 1100 / 3000\tReward = 96.14202309429866\tSMILES: O=CON1N=NNPP=C(C=C=CON=C=C1)N(CPOOP=NC=C=C=C=C)F\n",
      "TanimotoSimilarity : 0.1962931760741365\n",
      "Checkpoint saved at episode 1100\n",
      "Episode 1200 / 3000\tReward = 1.8016928657799247\tSMILES: C=O\n",
      "TanimotoSimilarity : 0.0024183796856106408\n",
      "Checkpoint saved at episode 1200\n",
      "Episode 1300 / 3000\tReward = 85.62627183844677\tSMILES: POCNOPCOCNPOCC=C(C)NNPCNCNN=C=N\n",
      "TanimotoSimilarity : 0.12791878172588833\n",
      "Checkpoint saved at episode 1300\n",
      "Episode 1400 / 3000\tReward = 4.4806909322444755\tSMILES: CC=O\n",
      "TanimotoSimilarity : 0.006038647342995169\n",
      "Checkpoint saved at episode 1400\n",
      "Episode 1500 / 3000\tReward = 106.77448477721295\tSMILES: OPOOOSP=SN=CCOCOC(N=O)NC=S(O)PC=S=C=COOOCC=SOCCP=CCNCPPOSPONCOC=CP=P=SON=S=SN=S=SCC\n",
      "TanimotoSimilarity : 0.22508038585209003\n",
      "Checkpoint saved at episode 1500\n",
      "Episode 1600 / 3000\tReward = 114.41859776390949\tSMILES: C=SNOPOCCONCONC=C=COON=CC=S(=POPOOOONOC)OOSCC=COC#N\n",
      "TanimotoSimilarity : 0.18271827182718273\n",
      "Checkpoint saved at episode 1600\n",
      "Episode 1700 / 3000\tReward = 120.56547499609195\tSMILES: OOSP=COCOPOOOOOC=C=POOONOOOC=COCOC=C=C=COCOOON=SOC=COOCOC=SOOCCOPOOCOOOPOSOOOCOOC(=COPOC=COO)ONOONOOOOS=COOOCOC=C=C=SCOC=S=COONOOC=CP=S=SOOOCOOOOOOOO\n",
      "TanimotoSimilarity : 0.24833702882483372\n",
      "Checkpoint saved at episode 1700\n",
      "Episode 1800 / 3000\tReward = 133.77122196329287\tSMILES: O=CCCCOCOC=S(=S=P=C=NOOOOOS=S=CO)SC=C=CCOOP=C=CON=CNS=S=S=C=S(O)NOOOC=COP=C=S=C=COC=COS=C=SOCOOCOOONOPPOOC=S=S=C=C=S=S(=COOC=CPC=C=C=C)NOOCC(O)OOSOOOP=COC(O)OO\n",
      "TanimotoSimilarity : 0.28521373510861947\n",
      "Checkpoint saved at episode 1800\n",
      "Episode 1900 / 3000\tReward = 156.32585783351524\tSMILES: N=PN(S=C=S=SOSOSOC=C=C(OSOOOC=S=S)N(S)NOP(=C)=S=S=S(ONOOS)N=S=C=SOOS=COCCP=S=SOS=SN=SOS=C=SNOO)OPOONOOCON(OSNN=S(O)OSOS=S=C=S#N)OSPOOS(O)=SOS=S=S=SOONOS(=C=S=SPOOSOC=S)OS\n",
      "TanimotoSimilarity : 0.30618892508143325\n",
      "Checkpoint saved at episode 1900\n",
      "Episode 2000 / 3000\tReward = 132.42647673142966\tSMILES: C=CP=S=CCP=SOOS#CC=S=S=C=S=S=C(S=S=C=S=C=C=S=CN=SN=S=S)C=S(=S)C=S=S=C=S=COOS(=C(C)S=S=S=C=SOCOC)=SPC=S=C=SCOCP=S=S=SOSOS#N\n",
      "TanimotoSimilarity : 0.2587883320867614\n",
      "Checkpoint saved at episode 2000\n",
      "Episode 2100 / 3000\tReward = 86.3612684153865\tSMILES: C=S=C=CON=CCP=CP=S=CP=CC=S=C=CCC=SC=C=C=SP=C=C=CNOS=S=S#N\n",
      "TanimotoSimilarity : 0.13583815028901733\n",
      "Checkpoint saved at episode 2100\n",
      "Episode 2200 / 3000\tReward = 111.56897008529539\tSMILES: C=C=C=C=S=S=SC=SCOC=CN=C=C=C=CC=S=S=SOC=S=C=CP(=CC=CP=S=C=SC=S=C=C=C=C)C=SF\n",
      "TanimotoSimilarity : 0.17715827338129497\n",
      "Checkpoint saved at episode 2200\n",
      "Episode 2300 / 3000\tReward = 120.12691378207627\tSMILES: C=C=CNP=S=C=C=C=C=C=SOP=COC=C=C=C=C=C=S=C=C=C=C=C=C=C=C(CP=C)CP=COC=C=S=C=CN=C=CN=C=C=C=C=C=C=C=SP=CP=C=CSC=S=C=C=CN=S=CC=S=C=C=C=C=S=C=CC=C=S=S=C=S=S=C=C=S=C=S=C=CP=C=S=C=C=S=CP=C=COP=C=C=C=CC=CP=S=C=C=C=SNOC=C=C=COOC=C\n",
      "TanimotoSimilarity : 0.26015037593984963\n",
      "Checkpoint saved at episode 2300\n",
      "Episode 2400 / 3000\tReward = 116.54650062957853\tSMILES: C1=C=C=S=S=C=C=S=C=C=C=S=C=C=CPC=C=C=CP=C=S=C=C=C=C=C=S=C=S=C1C=CC=C=C=S=C=C=C=S=C=C=C=NC=CN=C=C=CC=C=C=NC=CC=C=S=C=C=CC=CP=C=C=C=C=C=COS=C=C=S=C=COC=C=C=C=C=C=NC=C=C=C=C=C=S=C=C=S=C=S=C=S=C=S=C=S=CC=C=S=C=C=CC=C(P)CCPOC=S=C=C=SOC=CN=CN=C=C=CP=CO\n",
      "TanimotoSimilarity : 0.2389105058365759\n",
      "Checkpoint saved at episode 2400\n",
      "Episode 2500 / 3000\tReward = 118.62055919927013\tSMILES: OC=C=C=C=C=CN=C=C=S=C=C=C=C=COC=C=CN=CC=C=SOC=C=C=SOCC=C(S=CC=C=C=C=C=S=SOS=C=S=C=C)C=C=C=C=C=C=C=CCP=C=C=C=C=C=C=C=C=CONNS=C=COC=C=C=C=C=C=CP=C=C=C=S=S=C=COS=C=C(C)P=C=C=C=S=C=S=CCN=S=C=C=C=C=S=C=S=CP=SPOC=C=C\n",
      "TanimotoSimilarity : 0.24906507105459985\n",
      "Checkpoint saved at episode 2500\n",
      "Episode 2600 / 3000\tReward = 117.51993842086253\tSMILES: S=S=SP=C=C=C=S=S=C=C=C(C=C=C=CC=C=C(C=C=C=C=C)P=S=S)COOC=C=C=C=C=C=C=S=C=C=C=CC=S=S=C=C=S=C=C=C=S=S=C=C=C=C=C=SP=C=C=S=S=SC=C=C=C=C=C=C=CC=CC=C=C=COC=C=C=CPOC=S=CC=C=C=C=C=C=C=C=C=C=C=C=CN=C=C=C=C=C=C=C=C=C=C=C=C=C=C=C=C=C=C=C=C=S=C=C=C=C=C=C=C=C=C=C=C=C=C=C=S=C=C\n",
      "TanimotoSimilarity : 0.21949286846275753\n",
      "Checkpoint saved at episode 2600\n",
      "Episode 2700 / 3000\tReward = 132.1124302487366\tSMILES: C=SOC=C=C=C(C)C=COC=C=CN(C=S=C=C=C=CCP=C=C)C=C=CP=C=C=CC=C=S=C=C=C=C=CP=C=C=C=S=C=S=CCC=C(S=C=C=COPOCOCC=COOS=CC=C=C=C=C=S=S=S=S=C=S=C)C(=C=S=S=S=C=C=C=CP=CPC=SNN=S)CC=C=C=CP=CP(C)=C=C=S=C=C=CN=S=C=CCPC=C=CS=C\n",
      "TanimotoSimilarity : 0.2970365265334252\n",
      "Checkpoint saved at episode 2700\n",
      "Episode 2800 / 3000\tReward = 36.92245240933798\tSMILES: CN=C=C=C=C=C=C=COC=C=C=NCCl\n",
      "TanimotoSimilarity : 0.05227272727272727\n",
      "Checkpoint saved at episode 2800\n",
      "Episode 2900 / 3000\tReward = 20.367598626057735\tSMILES: O=S=C=C=COC#N\n",
      "TanimotoSimilarity : 0.028070175438596492\n",
      "Checkpoint saved at episode 2900\n",
      "Episode 3000 / 3000\tReward = 142.42349183012442\tSMILES: S=C(CPP=C=S=S=C=C=C=SOC=C)C=S=C(C=C=C=C=CCOSPNOPP)C=CPP=C=C=CNOC=S=C=SOC=C=C=C=C=C=CP(OOC=C=C=S=C=C=CN=C=C=C)OC=C=C=SNC=C=C=COCP=C=S=CP=C=C=C=S=S=SS=C=C=C=C=C=C=C=SOP=C=C=C=C=C=COC=C=COP(=CPC=S=C=S=C=S=C=S=CP=C)=S=C=C=CPP=S\n",
      "TanimotoSimilarity : 0.28755948334466347\n",
      "Checkpoint saved at episode 3000\n"
     ]
    }
   ],
   "source": [
    "checkpoint_dir = 'checkpoints/'\n",
    "if not os.path.exists(checkpoint_dir):\n",
    "    os.makedirs(checkpoint_dir)\n",
    "\n",
    "for episode in range(1, num_episodes):\n",
    "    state = env.reset()\n",
    "    done = False\n",
    "    episode_rewards = 0\n",
    "    state_values = []\n",
    "    rewards = []\n",
    "    masks = []\n",
    "    actions = []\n",
    "    states = []\n",
    "    action_log_probs = []\n",
    "\n",
    "    while not done:\n",
    "        state_tensor = torch.IntTensor(state).to(device)\n",
    "        probs = actor(state_tensor)\n",
    "        dist = torch.distributions.Categorical(probs)\n",
    "        action = dist.sample()\n",
    "\n",
    "        next_state, reward, terminated, truncated, _ = env.step(action.item())\n",
    "        done = terminated or truncated\n",
    "        episode_rewards += reward\n",
    "\n",
    "        # Store information\n",
    "        states.append(state_tensor)\n",
    "        actions.append(action)\n",
    "        action_log_probs.append(dist.log_prob(action))\n",
    "        rewards.append(reward)\n",
    "        masks.append(1 - done)\n",
    "\n",
    "        state_value = critic(state_tensor)\n",
    "        state_values.append(state_value)\n",
    "\n",
    "        state = next_state\n",
    "\n",
    "    rewards_list.append(episode_rewards)\n",
    "\n",
    "    next_state_tensor = torch.IntTensor(state).to(device)\n",
    "    next_state_value = critic(next_state_tensor)\n",
    "\n",
    "    returns = []\n",
    "    gae = 0\n",
    "    for step in reversed(range(len(rewards))):\n",
    "        delta = rewards[step] + gamma * next_state_value * masks[step] - state_values[step]\n",
    "        gae = delta + gamma * lambda_gae * masks[step] * gae\n",
    "        next_state_value = state_values[step]\n",
    "        returns.insert(0, gae + state_values[step])\n",
    "\n",
    "    returns = torch.stack(returns)\n",
    "    state_values = torch.stack(state_values)\n",
    "    actions = torch.stack(actions)\n",
    "    action_log_probs = torch.stack(action_log_probs)\n",
    "\n",
    "    advantages = returns - state_values\n",
    "\n",
    "    # Update Critic\n",
    "    critic_loss = (returns - state_values).pow(2).mean()\n",
    "    critic_optimizer.zero_grad()\n",
    "    critic_loss.backward()\n",
    "    critic_optimizer.step()\n",
    "\n",
    "    # Update Actor\n",
    "    actor_loss = -(action_log_probs * advantages.detach()).mean()\n",
    "    actor_optimizer.zero_grad()\n",
    "    actor_loss.backward()\n",
    "    actor_optimizer.step()\n",
    "\n",
    "    if (episode + 1) % print_interval == 0:\n",
    "        smi = sf.decoder(env.to_selfies(state))\n",
    "        print_progress(episode, episode_rewards, smi)\n",
    "        ms = [Chem.MolFromSmiles(smi), Chem.MolFromSmiles('COCCOC1=C(C=C2C(=C1)C(=NC=N2)NC3=CC=CC(=C3)C#C)OCCOC')]\n",
    "        fpgen = AllChem.GetRDKitFPGenerator()\n",
    "        fps = [fpgen.GetFingerprint(x) for x in ms]\n",
    "        tanimoto = DataStructs.TanimotoSimilarity(fps[0],fps[1])\n",
    "\n",
    "        print(f\"TanimotoSimilarity : {tanimoto}\")\n",
    "        \n",
    "        # 모델 상태 저장\n",
    "        checkpoint_path = os.path.join(checkpoint_dir, f'checkpoint_{episode + 1}.pth')\n",
    "        torch.save({\n",
    "            'actor_state_dict': actor.state_dict(),\n",
    "            'critic_state_dict': critic.state_dict(),\n",
    "            'optimizer_actor_state_dict': actor_optimizer.state_dict(),\n",
    "            'optimizer_critic_state_dict': critic_optimizer.state_dict(),\n",
    "            'episode': episode + 1\n",
    "        }, checkpoint_path)\n",
    "        print(f\"Checkpoint saved at episode {episode + 1}\")\n",
    "\n",
    "# Close the environment\n",
    "env.close()"
   ]
  },
  {
   "cell_type": "code",
   "execution_count": 13,
   "id": "2b1515ca-212f-45a5-b51d-9ea81bd520b3",
   "metadata": {},
   "outputs": [
    {
     "data": {
      "image/png": "[encoded data removed]",
      "text/plain": [
       "<Figure size 1000x500 with 1 Axes>"
      ]
     },
     "metadata": {},
     "output_type": "display_data"
    }
   ],
   "source": [
    "import matplotlib.pyplot as plt\n",
    "\n",
    "plt.figure(figsize=(10, 5))\n",
    "plt.plot(rewards_list, label='Reward per episode')\n",
    "plt.xlabel('Episode')\n",
    "plt.ylabel('Total Reward')\n",
    "plt.title('Total Rewards Per Episode')\n",
    "plt.legend()\n",
    "plt.show()"
   ]
  },
  {
   "cell_type": "code",
   "execution_count": null,
   "id": "3da2d6b0-647f-43fe-86b0-00d03714b9b5",
   "metadata": {},
   "outputs": [],
   "source": []
  },
  {
   "cell_type": "code",
   "execution_count": null,
   "id": "b8d75b0e-f5e3-474a-9155-4c44f337e00d",
   "metadata": {},
   "outputs": [],
   "source": []
  },
  {
   "cell_type": "code",
   "execution_count": null,
   "id": "12809a7e-b0f4-4868-ba2c-e0c3e7152956",
   "metadata": {},
   "outputs": [],
   "source": []
  },
  {
   "cell_type": "code",
   "execution_count": null,
   "id": "b316abe5-107b-4643-818c-790a678a2a5b",
   "metadata": {},
   "outputs": [],
   "source": []
  },
  {
   "cell_type": "code",
   "execution_count": null,
   "id": "f3a8acba-8a12-44a5-ad65-940a3d96c35a",
   "metadata": {},
   "outputs": [],
   "source": []
  },
  {
   "cell_type": "code",
   "execution_count": null,
   "id": "565ea945-91b7-415c-b48a-c6372c91724a",
   "metadata": {},
   "outputs": [],
   "source": []
  },
  {
   "cell_type": "code",
   "execution_count": null,
   "id": "776d6227-e7c8-4872-9834-24346b5990f6",
   "metadata": {},
   "outputs": [],
   "source": []
  },
  {
   "cell_type": "code",
   "execution_count": null,
   "id": "7d0c0940-d54b-4c78-b7e2-d684a4ab44e9",
   "metadata": {},
   "outputs": [],
   "source": []
  },
  {
   "cell_type": "code",
   "execution_count": null,
   "id": "13f27412-ae47-43bf-a731-f71555b21cb1",
   "metadata": {},
   "outputs": [],
   "source": []
  },
  {
   "cell_type": "code",
   "execution_count": null,
   "id": "ab62494c-a5a9-43b5-a76c-560de4516c48",
   "metadata": {},
   "outputs": [],
   "source": []
  },
  {
   "cell_type": "code",
   "execution_count": null,
   "id": "241de491-2642-4c19-8565-4af9cefbdcef",
   "metadata": {},
   "outputs": [],
   "source": []
  },
  {
   "cell_type": "code",
   "execution_count": null,
   "id": "67244f9b-d34d-4fdc-beb8-2c01a91ad293",
   "metadata": {},
   "outputs": [],
   "source": []
  },
  {
   "cell_type": "code",
   "execution_count": null,
   "id": "2f484ca2-0364-4556-8878-ee9a5c89f16c",
   "metadata": {},
   "outputs": [],
   "source": []
  },
  {
   "cell_type": "code",
   "execution_count": null,
   "id": "21e51cd0-5d0b-4bc8-aa76-06f4ec133432",
   "metadata": {},
   "outputs": [],
   "source": []
  },
  {
   "cell_type": "code",
   "execution_count": null,
   "id": "dbb5a67e-7360-4fc7-962a-953e2b9ac666",
   "metadata": {},
   "outputs": [],
   "source": []
  },
  {
   "cell_type": "code",
   "execution_count": null,
   "id": "6e9d640f-ec60-48ce-ac16-69cf5a2b84cd",
   "metadata": {},
   "outputs": [],
   "source": []
  },
  {
   "cell_type": "code",
   "execution_count": null,
   "id": "939fd3f0-2906-46c9-b740-0376893718de",
   "metadata": {},
   "outputs": [],
   "source": []
  },
  {
   "cell_type": "code",
   "execution_count": null,
   "id": "b551287d-264f-4eda-aeb4-2a6c400feb17",
   "metadata": {},
   "outputs": [],
   "source": []
  },
  {
   "cell_type": "code",
   "execution_count": null,
   "id": "d33f4a1e-9295-423e-adfc-08f573d62302",
   "metadata": {},
   "outputs": [],
   "source": []
  },
  {
   "cell_type": "code",
   "execution_count": null,
   "id": "b787cb7c-ac3f-44ea-be6b-ef205070b270",
   "metadata": {},
   "outputs": [],
   "source": []
  },
  {
   "cell_type": "code",
   "execution_count": null,
   "id": "e9176c52-daed-4d47-8cdb-d0ab04450e71",
   "metadata": {},
   "outputs": [],
   "source": []
  },
  {
   "cell_type": "code",
   "execution_count": null,
   "id": "714feb3d-a166-49d5-80cd-f4a3f7d45d47",
   "metadata": {},
   "outputs": [],
   "source": []
  },
  {
   "cell_type": "code",
   "execution_count": null,
   "id": "145fafad-bfc4-452c-992f-4aa64abe4ba6",
   "metadata": {},
   "outputs": [],
   "source": []
  },
  {
   "cell_type": "code",
   "execution_count": null,
   "id": "6c064dc4-3077-4d34-9fb2-19198895803d",
   "metadata": {},
   "outputs": [],
   "source": []
  },
  {
   "cell_type": "code",
   "execution_count": null,
   "id": "d5ce6a21-2414-4760-bca3-5e7d865a0981",
   "metadata": {},
   "outputs": [],
   "source": []
  },
  {
   "cell_type": "code",
   "execution_count": null,
   "id": "46dabda2-dc2b-4535-95a4-f5f0df3519c5",
   "metadata": {},
   "outputs": [],
   "source": []
  },
  {
   "cell_type": "code",
   "execution_count": null,
   "id": "69ff269f-3f7e-425a-8f50-ad109f4fa898",
   "metadata": {},
   "outputs": [],
   "source": []
  },
  {
   "cell_type": "code",
   "execution_count": null,
   "id": "b502899d-c6cf-468b-9072-718c6d232efd",
   "metadata": {},
   "outputs": [],
   "source": []
  },
  {
   "cell_type": "code",
   "execution_count": null,
   "id": "f47bf51b-5526-433b-bf97-3ce7377b3eba",
   "metadata": {},
   "outputs": [],
   "source": []
  },
  {
   "cell_type": "code",
   "execution_count": null,
   "id": "26fdde4c-310d-42ab-9b30-2f364c8357bb",
   "metadata": {},
   "outputs": [],
   "source": []
  },
  {
   "cell_type": "code",
   "execution_count": null,
   "id": "5a756139-a041-40ed-8951-df7912fb3c67",
   "metadata": {},
   "outputs": [],
   "source": []
  },
  {
   "cell_type": "code",
   "execution_count": null,
   "id": "96f282a0-0274-454f-8ef1-7f1c413c8f5c",
   "metadata": {},
   "outputs": [],
   "source": []
  },
  {
   "cell_type": "code",
   "execution_count": null,
   "id": "35c57a46-1e32-49c6-a725-f37d5bd9741e",
   "metadata": {},
   "outputs": [],
   "source": []
  },
  {
   "cell_type": "code",
   "execution_count": null,
   "id": "8646920c-ae37-404c-bccd-0023828e1f59",
   "metadata": {},
   "outputs": [],
   "source": []
  },
  {
   "cell_type": "code",
   "execution_count": null,
   "id": "7af5ca77-c894-4199-b1c0-83dac8b2b153",
   "metadata": {},
   "outputs": [],
   "source": []
  },
  {
   "cell_type": "code",
   "execution_count": null,
   "id": "35101e25-fa92-4917-86aa-b5e1c1e8418a",
   "metadata": {},
   "outputs": [],
   "source": []
  },
  {
   "cell_type": "code",
   "execution_count": null,
   "id": "10509c80-c089-4c5b-a0d7-1cc130e59f80",
   "metadata": {},
   "outputs": [],
   "source": []
  },
  {
   "cell_type": "code",
   "execution_count": null,
   "id": "7415cf90-1d2f-4a30-8390-cc35bfd4e678",
   "metadata": {},
   "outputs": [],
   "source": []
  },
  {
   "cell_type": "code",
   "execution_count": null,
   "id": "5d626414-587f-48a0-af3e-d3f733b5ad8a",
   "metadata": {},
   "outputs": [],
   "source": []
  },
  {
   "cell_type": "code",
   "execution_count": null,
   "id": "f01e0773-38f5-4020-a412-666c01091b4a",
   "metadata": {},
   "outputs": [],
   "source": []
  },
  {
   "cell_type": "code",
   "execution_count": null,
   "id": "37478e69-0987-4e26-a496-fb89a55e5f17",
   "metadata": {},
   "outputs": [],
   "source": []
  },
  {
   "cell_type": "code",
   "execution_count": null,
   "id": "37f6940b-eb11-4098-933b-9d28a1c7511b",
   "metadata": {},
   "outputs": [],
   "source": []
  }
 ],
 "metadata": {
  "kernelspec": {
   "display_name": "Python 3 (ipykernel)",
   "language": "python",
   "name": "python3"
  },
  "language_info": {
   "codemirror_mode": {
    "name": "ipython",
    "version": 3
   },
   "file_extension": ".py",
   "mimetype": "text/x-python",
   "name": "python",
   "nbconvert_exporter": "python",
   "pygments_lexer": "ipython3",
   "version": "3.12.2"
  }
 },
 "nbformat": 4,
 "nbformat_minor": 5
}
